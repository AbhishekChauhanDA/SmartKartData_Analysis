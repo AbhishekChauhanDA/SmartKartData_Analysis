{
 "cells": [
  {
   "cell_type": "code",
   "execution_count": 1,
   "id": "324c0f2d",
   "metadata": {},
   "outputs": [],
   "source": [
    "import pandas as pd\n",
    "import matplotlib.pyplot as plt\n",
    "import seaborn as sns\n"
   ]
  },
  {
   "cell_type": "code",
   "execution_count": 3,
   "id": "45488761",
   "metadata": {},
   "outputs": [
    {
     "data": {
      "text/html": [
       "<div>\n",
       "<style scoped>\n",
       "    .dataframe tbody tr th:only-of-type {\n",
       "        vertical-align: middle;\n",
       "    }\n",
       "\n",
       "    .dataframe tbody tr th {\n",
       "        vertical-align: top;\n",
       "    }\n",
       "\n",
       "    .dataframe thead th {\n",
       "        text-align: right;\n",
       "    }\n",
       "</style>\n",
       "<table border=\"1\" class=\"dataframe\">\n",
       "  <thead>\n",
       "    <tr style=\"text-align: right;\">\n",
       "      <th></th>\n",
       "      <th>Order_ID</th>\n",
       "      <th>Customer_ID</th>\n",
       "      <th>Order_Date</th>\n",
       "      <th>Ship_Date</th>\n",
       "      <th>Product_ID</th>\n",
       "      <th>Category</th>\n",
       "      <th>Sub_Category</th>\n",
       "      <th>Product_Name</th>\n",
       "      <th>Sales</th>\n",
       "      <th>Quantity</th>\n",
       "      <th>Discount</th>\n",
       "      <th>Profit</th>\n",
       "      <th>Region</th>\n",
       "    </tr>\n",
       "  </thead>\n",
       "  <tbody>\n",
       "    <tr>\n",
       "      <th>0</th>\n",
       "      <td>2001</td>\n",
       "      <td>C205</td>\n",
       "      <td>2025-01-17</td>\n",
       "      <td>2025-01-22</td>\n",
       "      <td>P1149</td>\n",
       "      <td>Office Supplies</td>\n",
       "      <td>Pens</td>\n",
       "      <td>Pilot Pen</td>\n",
       "      <td>137337.72</td>\n",
       "      <td>5</td>\n",
       "      <td>0.10</td>\n",
       "      <td>2746.75</td>\n",
       "      <td>North</td>\n",
       "    </tr>\n",
       "    <tr>\n",
       "      <th>1</th>\n",
       "      <td>2002</td>\n",
       "      <td>C147</td>\n",
       "      <td>2024-10-04</td>\n",
       "      <td>2024-10-11</td>\n",
       "      <td>P1111</td>\n",
       "      <td>Office Supplies</td>\n",
       "      <td>Binders</td>\n",
       "      <td>Staples Binder</td>\n",
       "      <td>60488.39</td>\n",
       "      <td>10</td>\n",
       "      <td>0.15</td>\n",
       "      <td>-1814.65</td>\n",
       "      <td>South</td>\n",
       "    </tr>\n",
       "    <tr>\n",
       "      <th>2</th>\n",
       "      <td>2003</td>\n",
       "      <td>C151</td>\n",
       "      <td>2024-11-01</td>\n",
       "      <td>2024-11-04</td>\n",
       "      <td>P1120</td>\n",
       "      <td>Office Supplies</td>\n",
       "      <td>Binders</td>\n",
       "      <td>Office Depot Binder</td>\n",
       "      <td>29567.83</td>\n",
       "      <td>9</td>\n",
       "      <td>0.05</td>\n",
       "      <td>2069.75</td>\n",
       "      <td>South</td>\n",
       "    </tr>\n",
       "    <tr>\n",
       "      <th>3</th>\n",
       "      <td>2004</td>\n",
       "      <td>C203</td>\n",
       "      <td>2024-08-06</td>\n",
       "      <td>2024-08-07</td>\n",
       "      <td>P1133</td>\n",
       "      <td>Furniture</td>\n",
       "      <td>Tables</td>\n",
       "      <td>Conference Table</td>\n",
       "      <td>126757.66</td>\n",
       "      <td>8</td>\n",
       "      <td>0.05</td>\n",
       "      <td>8873.04</td>\n",
       "      <td>North</td>\n",
       "    </tr>\n",
       "    <tr>\n",
       "      <th>4</th>\n",
       "      <td>2005</td>\n",
       "      <td>C016</td>\n",
       "      <td>2024-06-18</td>\n",
       "      <td>2024-06-25</td>\n",
       "      <td>P1019</td>\n",
       "      <td>Office Supplies</td>\n",
       "      <td>Binders</td>\n",
       "      <td>Staples Binder</td>\n",
       "      <td>71284.84</td>\n",
       "      <td>9</td>\n",
       "      <td>0.15</td>\n",
       "      <td>-2138.55</td>\n",
       "      <td>East</td>\n",
       "    </tr>\n",
       "    <tr>\n",
       "      <th>...</th>\n",
       "      <td>...</td>\n",
       "      <td>...</td>\n",
       "      <td>...</td>\n",
       "      <td>...</td>\n",
       "      <td>...</td>\n",
       "      <td>...</td>\n",
       "      <td>...</td>\n",
       "      <td>...</td>\n",
       "      <td>...</td>\n",
       "      <td>...</td>\n",
       "      <td>...</td>\n",
       "      <td>...</td>\n",
       "      <td>...</td>\n",
       "    </tr>\n",
       "    <tr>\n",
       "      <th>995</th>\n",
       "      <td>2996</td>\n",
       "      <td>C280</td>\n",
       "      <td>2024-12-30</td>\n",
       "      <td>2025-01-06</td>\n",
       "      <td>P1016</td>\n",
       "      <td>Technology</td>\n",
       "      <td>Laptops</td>\n",
       "      <td>Lenovo ThinkPad</td>\n",
       "      <td>127074.41</td>\n",
       "      <td>9</td>\n",
       "      <td>0.00</td>\n",
       "      <td>15248.93</td>\n",
       "      <td>South</td>\n",
       "    </tr>\n",
       "    <tr>\n",
       "      <th>996</th>\n",
       "      <td>2997</td>\n",
       "      <td>C046</td>\n",
       "      <td>2025-03-26</td>\n",
       "      <td>2025-03-31</td>\n",
       "      <td>P1174</td>\n",
       "      <td>Office Supplies</td>\n",
       "      <td>Pens</td>\n",
       "      <td>Reynolds Pen</td>\n",
       "      <td>92695.16</td>\n",
       "      <td>9</td>\n",
       "      <td>0.05</td>\n",
       "      <td>6488.66</td>\n",
       "      <td>West</td>\n",
       "    </tr>\n",
       "    <tr>\n",
       "      <th>997</th>\n",
       "      <td>2998</td>\n",
       "      <td>C183</td>\n",
       "      <td>2025-03-17</td>\n",
       "      <td>2025-03-19</td>\n",
       "      <td>P1113</td>\n",
       "      <td>Office Supplies</td>\n",
       "      <td>Pens</td>\n",
       "      <td>Parker Pen</td>\n",
       "      <td>74447.03</td>\n",
       "      <td>10</td>\n",
       "      <td>0.20</td>\n",
       "      <td>-5955.76</td>\n",
       "      <td>North</td>\n",
       "    </tr>\n",
       "    <tr>\n",
       "      <th>998</th>\n",
       "      <td>2999</td>\n",
       "      <td>C216</td>\n",
       "      <td>2024-06-22</td>\n",
       "      <td>2024-06-29</td>\n",
       "      <td>P1109</td>\n",
       "      <td>Technology</td>\n",
       "      <td>Mobiles</td>\n",
       "      <td>iPhone 13</td>\n",
       "      <td>52999.54</td>\n",
       "      <td>5</td>\n",
       "      <td>0.20</td>\n",
       "      <td>-4239.96</td>\n",
       "      <td>West</td>\n",
       "    </tr>\n",
       "    <tr>\n",
       "      <th>999</th>\n",
       "      <td>3000</td>\n",
       "      <td>C080</td>\n",
       "      <td>2024-10-28</td>\n",
       "      <td>2024-10-29</td>\n",
       "      <td>P1081</td>\n",
       "      <td>Technology</td>\n",
       "      <td>Mobiles</td>\n",
       "      <td>OnePlus 10</td>\n",
       "      <td>52632.42</td>\n",
       "      <td>1</td>\n",
       "      <td>0.15</td>\n",
       "      <td>-1578.97</td>\n",
       "      <td>North</td>\n",
       "    </tr>\n",
       "  </tbody>\n",
       "</table>\n",
       "<p>1000 rows × 13 columns</p>\n",
       "</div>"
      ],
      "text/plain": [
       "     Order_ID Customer_ID  Order_Date   Ship_Date Product_ID         Category  \\\n",
       "0        2001        C205  2025-01-17  2025-01-22      P1149  Office Supplies   \n",
       "1        2002        C147  2024-10-04  2024-10-11      P1111  Office Supplies   \n",
       "2        2003        C151  2024-11-01  2024-11-04      P1120  Office Supplies   \n",
       "3        2004        C203  2024-08-06  2024-08-07      P1133        Furniture   \n",
       "4        2005        C016  2024-06-18  2024-06-25      P1019  Office Supplies   \n",
       "..        ...         ...         ...         ...        ...              ...   \n",
       "995      2996        C280  2024-12-30  2025-01-06      P1016       Technology   \n",
       "996      2997        C046  2025-03-26  2025-03-31      P1174  Office Supplies   \n",
       "997      2998        C183  2025-03-17  2025-03-19      P1113  Office Supplies   \n",
       "998      2999        C216  2024-06-22  2024-06-29      P1109       Technology   \n",
       "999      3000        C080  2024-10-28  2024-10-29      P1081       Technology   \n",
       "\n",
       "    Sub_Category         Product_Name      Sales  Quantity  Discount  \\\n",
       "0           Pens            Pilot Pen  137337.72         5      0.10   \n",
       "1        Binders       Staples Binder   60488.39        10      0.15   \n",
       "2        Binders  Office Depot Binder   29567.83         9      0.05   \n",
       "3         Tables     Conference Table  126757.66         8      0.05   \n",
       "4        Binders       Staples Binder   71284.84         9      0.15   \n",
       "..           ...                  ...        ...       ...       ...   \n",
       "995      Laptops      Lenovo ThinkPad  127074.41         9      0.00   \n",
       "996         Pens         Reynolds Pen   92695.16         9      0.05   \n",
       "997         Pens           Parker Pen   74447.03        10      0.20   \n",
       "998      Mobiles            iPhone 13   52999.54         5      0.20   \n",
       "999      Mobiles           OnePlus 10   52632.42         1      0.15   \n",
       "\n",
       "       Profit Region  \n",
       "0     2746.75  North  \n",
       "1    -1814.65  South  \n",
       "2     2069.75  South  \n",
       "3     8873.04  North  \n",
       "4    -2138.55   East  \n",
       "..        ...    ...  \n",
       "995  15248.93  South  \n",
       "996   6488.66   West  \n",
       "997  -5955.76  North  \n",
       "998  -4239.96   West  \n",
       "999  -1578.97  North  \n",
       "\n",
       "[1000 rows x 13 columns]"
      ]
     },
     "execution_count": 3,
     "metadata": {},
     "output_type": "execute_result"
    }
   ],
   "source": [
    "df = pd.read_csv(r\"C:\\Users\\91977\\OneDrive\\Desktop\\prtc\\smartkart_full_sales_data.csv\")\n",
    "df"
   ]
  },
  {
   "cell_type": "code",
   "execution_count": 4,
   "id": "f4de14a0",
   "metadata": {},
   "outputs": [
    {
     "data": {
      "text/html": [
       "<div>\n",
       "<style scoped>\n",
       "    .dataframe tbody tr th:only-of-type {\n",
       "        vertical-align: middle;\n",
       "    }\n",
       "\n",
       "    .dataframe tbody tr th {\n",
       "        vertical-align: top;\n",
       "    }\n",
       "\n",
       "    .dataframe thead th {\n",
       "        text-align: right;\n",
       "    }\n",
       "</style>\n",
       "<table border=\"1\" class=\"dataframe\">\n",
       "  <thead>\n",
       "    <tr style=\"text-align: right;\">\n",
       "      <th></th>\n",
       "      <th>Order_ID</th>\n",
       "      <th>Customer_ID</th>\n",
       "      <th>Order_Date</th>\n",
       "      <th>Ship_Date</th>\n",
       "      <th>Product_ID</th>\n",
       "      <th>Category</th>\n",
       "      <th>Sub_Category</th>\n",
       "      <th>Product_Name</th>\n",
       "      <th>Sales</th>\n",
       "      <th>Quantity</th>\n",
       "      <th>Discount</th>\n",
       "      <th>Profit</th>\n",
       "      <th>Region</th>\n",
       "    </tr>\n",
       "  </thead>\n",
       "  <tbody>\n",
       "    <tr>\n",
       "      <th>0</th>\n",
       "      <td>2001</td>\n",
       "      <td>C205</td>\n",
       "      <td>2025-01-17</td>\n",
       "      <td>2025-01-22</td>\n",
       "      <td>P1149</td>\n",
       "      <td>Office Supplies</td>\n",
       "      <td>Pens</td>\n",
       "      <td>Pilot Pen</td>\n",
       "      <td>137337.72</td>\n",
       "      <td>5</td>\n",
       "      <td>0.10</td>\n",
       "      <td>2746.75</td>\n",
       "      <td>North</td>\n",
       "    </tr>\n",
       "    <tr>\n",
       "      <th>1</th>\n",
       "      <td>2002</td>\n",
       "      <td>C147</td>\n",
       "      <td>2024-10-04</td>\n",
       "      <td>2024-10-11</td>\n",
       "      <td>P1111</td>\n",
       "      <td>Office Supplies</td>\n",
       "      <td>Binders</td>\n",
       "      <td>Staples Binder</td>\n",
       "      <td>60488.39</td>\n",
       "      <td>10</td>\n",
       "      <td>0.15</td>\n",
       "      <td>-1814.65</td>\n",
       "      <td>South</td>\n",
       "    </tr>\n",
       "    <tr>\n",
       "      <th>2</th>\n",
       "      <td>2003</td>\n",
       "      <td>C151</td>\n",
       "      <td>2024-11-01</td>\n",
       "      <td>2024-11-04</td>\n",
       "      <td>P1120</td>\n",
       "      <td>Office Supplies</td>\n",
       "      <td>Binders</td>\n",
       "      <td>Office Depot Binder</td>\n",
       "      <td>29567.83</td>\n",
       "      <td>9</td>\n",
       "      <td>0.05</td>\n",
       "      <td>2069.75</td>\n",
       "      <td>South</td>\n",
       "    </tr>\n",
       "    <tr>\n",
       "      <th>3</th>\n",
       "      <td>2004</td>\n",
       "      <td>C203</td>\n",
       "      <td>2024-08-06</td>\n",
       "      <td>2024-08-07</td>\n",
       "      <td>P1133</td>\n",
       "      <td>Furniture</td>\n",
       "      <td>Tables</td>\n",
       "      <td>Conference Table</td>\n",
       "      <td>126757.66</td>\n",
       "      <td>8</td>\n",
       "      <td>0.05</td>\n",
       "      <td>8873.04</td>\n",
       "      <td>North</td>\n",
       "    </tr>\n",
       "    <tr>\n",
       "      <th>4</th>\n",
       "      <td>2005</td>\n",
       "      <td>C016</td>\n",
       "      <td>2024-06-18</td>\n",
       "      <td>2024-06-25</td>\n",
       "      <td>P1019</td>\n",
       "      <td>Office Supplies</td>\n",
       "      <td>Binders</td>\n",
       "      <td>Staples Binder</td>\n",
       "      <td>71284.84</td>\n",
       "      <td>9</td>\n",
       "      <td>0.15</td>\n",
       "      <td>-2138.55</td>\n",
       "      <td>East</td>\n",
       "    </tr>\n",
       "  </tbody>\n",
       "</table>\n",
       "</div>"
      ],
      "text/plain": [
       "   Order_ID Customer_ID  Order_Date   Ship_Date Product_ID         Category  \\\n",
       "0      2001        C205  2025-01-17  2025-01-22      P1149  Office Supplies   \n",
       "1      2002        C147  2024-10-04  2024-10-11      P1111  Office Supplies   \n",
       "2      2003        C151  2024-11-01  2024-11-04      P1120  Office Supplies   \n",
       "3      2004        C203  2024-08-06  2024-08-07      P1133        Furniture   \n",
       "4      2005        C016  2024-06-18  2024-06-25      P1019  Office Supplies   \n",
       "\n",
       "  Sub_Category         Product_Name      Sales  Quantity  Discount   Profit  \\\n",
       "0         Pens            Pilot Pen  137337.72         5      0.10  2746.75   \n",
       "1      Binders       Staples Binder   60488.39        10      0.15 -1814.65   \n",
       "2      Binders  Office Depot Binder   29567.83         9      0.05  2069.75   \n",
       "3       Tables     Conference Table  126757.66         8      0.05  8873.04   \n",
       "4      Binders       Staples Binder   71284.84         9      0.15 -2138.55   \n",
       "\n",
       "  Region  \n",
       "0  North  \n",
       "1  South  \n",
       "2  South  \n",
       "3  North  \n",
       "4   East  "
      ]
     },
     "execution_count": 4,
     "metadata": {},
     "output_type": "execute_result"
    }
   ],
   "source": [
    "df.head()"
   ]
  },
  {
   "cell_type": "code",
   "execution_count": 5,
   "id": "0ea200d9",
   "metadata": {},
   "outputs": [
    {
     "name": "stdout",
     "output_type": "stream",
     "text": [
      "<class 'pandas.core.frame.DataFrame'>\n",
      "RangeIndex: 1000 entries, 0 to 999\n",
      "Data columns (total 13 columns):\n",
      " #   Column        Non-Null Count  Dtype  \n",
      "---  ------        --------------  -----  \n",
      " 0   Order_ID      1000 non-null   int64  \n",
      " 1   Customer_ID   1000 non-null   object \n",
      " 2   Order_Date    1000 non-null   object \n",
      " 3   Ship_Date     1000 non-null   object \n",
      " 4   Product_ID    1000 non-null   object \n",
      " 5   Category      1000 non-null   object \n",
      " 6   Sub_Category  1000 non-null   object \n",
      " 7   Product_Name  1000 non-null   object \n",
      " 8   Sales         1000 non-null   float64\n",
      " 9   Quantity      1000 non-null   int64  \n",
      " 10  Discount      1000 non-null   float64\n",
      " 11  Profit        1000 non-null   float64\n",
      " 12  Region        1000 non-null   object \n",
      "dtypes: float64(3), int64(2), object(8)\n",
      "memory usage: 101.7+ KB\n"
     ]
    }
   ],
   "source": [
    "df.info()"
   ]
  },
  {
   "cell_type": "code",
   "execution_count": 7,
   "id": "77a22918",
   "metadata": {},
   "outputs": [
    {
     "data": {
      "text/plain": [
       "Order_ID        0\n",
       "Customer_ID     0\n",
       "Order_Date      0\n",
       "Ship_Date       0\n",
       "Product_ID      0\n",
       "Category        0\n",
       "Sub_Category    0\n",
       "Product_Name    0\n",
       "Sales           0\n",
       "Quantity        0\n",
       "Discount        0\n",
       "Profit          0\n",
       "Region          0\n",
       "dtype: int64"
      ]
     },
     "execution_count": 7,
     "metadata": {},
     "output_type": "execute_result"
    }
   ],
   "source": [
    "df.isnull().sum()"
   ]
  },
  {
   "cell_type": "code",
   "execution_count": 9,
   "id": "60830495",
   "metadata": {},
   "outputs": [
    {
     "data": {
      "text/plain": [
       "np.int64(0)"
      ]
     },
     "execution_count": 9,
     "metadata": {},
     "output_type": "execute_result"
    }
   ],
   "source": [
    "df.duplicated().sum()"
   ]
  },
  {
   "cell_type": "code",
   "execution_count": 11,
   "id": "7d15c732",
   "metadata": {},
   "outputs": [
    {
     "name": "stdout",
     "output_type": "stream",
     "text": [
      "<class 'pandas.core.frame.DataFrame'>\n",
      "RangeIndex: 1000 entries, 0 to 999\n",
      "Data columns (total 13 columns):\n",
      " #   Column        Non-Null Count  Dtype         \n",
      "---  ------        --------------  -----         \n",
      " 0   Order_ID      1000 non-null   int64         \n",
      " 1   Customer_ID   1000 non-null   object        \n",
      " 2   Order_Date    1000 non-null   datetime64[ns]\n",
      " 3   Ship_Date     1000 non-null   datetime64[ns]\n",
      " 4   Product_ID    1000 non-null   object        \n",
      " 5   Category      1000 non-null   object        \n",
      " 6   Sub_Category  1000 non-null   object        \n",
      " 7   Product_Name  1000 non-null   object        \n",
      " 8   Sales         1000 non-null   float64       \n",
      " 9   Quantity      1000 non-null   int64         \n",
      " 10  Discount      1000 non-null   float64       \n",
      " 11  Profit        1000 non-null   float64       \n",
      " 12  Region        1000 non-null   object        \n",
      "dtypes: datetime64[ns](2), float64(3), int64(2), object(6)\n",
      "memory usage: 101.7+ KB\n"
     ]
    }
   ],
   "source": [
    "df['Order_Date'] = pd.to_datetime(df['Order_Date'])\n",
    "df['Ship_Date'] = pd.to_datetime(df['Ship_Date'])\n",
    "df.info()"
   ]
  },
  {
   "cell_type": "code",
   "execution_count": 12,
   "id": "5ac05328",
   "metadata": {},
   "outputs": [],
   "source": [
    "df['Clean_Profit'] = df['Profit'].apply(lambda x : x if x>=0 else 0)\n",
    "df['clean_Loss'] = df['Profit'].apply(lambda x:abs(x) if x<0 else 0)"
   ]
  },
  {
   "cell_type": "code",
   "execution_count": 13,
   "id": "94717292",
   "metadata": {},
   "outputs": [
    {
     "data": {
      "text/html": [
       "<div>\n",
       "<style scoped>\n",
       "    .dataframe tbody tr th:only-of-type {\n",
       "        vertical-align: middle;\n",
       "    }\n",
       "\n",
       "    .dataframe tbody tr th {\n",
       "        vertical-align: top;\n",
       "    }\n",
       "\n",
       "    .dataframe thead th {\n",
       "        text-align: right;\n",
       "    }\n",
       "</style>\n",
       "<table border=\"1\" class=\"dataframe\">\n",
       "  <thead>\n",
       "    <tr style=\"text-align: right;\">\n",
       "      <th></th>\n",
       "      <th>Order_ID</th>\n",
       "      <th>Customer_ID</th>\n",
       "      <th>Order_Date</th>\n",
       "      <th>Ship_Date</th>\n",
       "      <th>Product_ID</th>\n",
       "      <th>Category</th>\n",
       "      <th>Sub_Category</th>\n",
       "      <th>Product_Name</th>\n",
       "      <th>Sales</th>\n",
       "      <th>Quantity</th>\n",
       "      <th>Discount</th>\n",
       "      <th>Profit</th>\n",
       "      <th>Region</th>\n",
       "      <th>Clean_Profit</th>\n",
       "      <th>clean_Loss</th>\n",
       "    </tr>\n",
       "  </thead>\n",
       "  <tbody>\n",
       "    <tr>\n",
       "      <th>0</th>\n",
       "      <td>2001</td>\n",
       "      <td>C205</td>\n",
       "      <td>2025-01-17</td>\n",
       "      <td>2025-01-22</td>\n",
       "      <td>P1149</td>\n",
       "      <td>Office Supplies</td>\n",
       "      <td>Pens</td>\n",
       "      <td>Pilot Pen</td>\n",
       "      <td>137337.72</td>\n",
       "      <td>5</td>\n",
       "      <td>0.10</td>\n",
       "      <td>2746.75</td>\n",
       "      <td>North</td>\n",
       "      <td>2746.75</td>\n",
       "      <td>0.00</td>\n",
       "    </tr>\n",
       "    <tr>\n",
       "      <th>1</th>\n",
       "      <td>2002</td>\n",
       "      <td>C147</td>\n",
       "      <td>2024-10-04</td>\n",
       "      <td>2024-10-11</td>\n",
       "      <td>P1111</td>\n",
       "      <td>Office Supplies</td>\n",
       "      <td>Binders</td>\n",
       "      <td>Staples Binder</td>\n",
       "      <td>60488.39</td>\n",
       "      <td>10</td>\n",
       "      <td>0.15</td>\n",
       "      <td>-1814.65</td>\n",
       "      <td>South</td>\n",
       "      <td>0.00</td>\n",
       "      <td>1814.65</td>\n",
       "    </tr>\n",
       "    <tr>\n",
       "      <th>2</th>\n",
       "      <td>2003</td>\n",
       "      <td>C151</td>\n",
       "      <td>2024-11-01</td>\n",
       "      <td>2024-11-04</td>\n",
       "      <td>P1120</td>\n",
       "      <td>Office Supplies</td>\n",
       "      <td>Binders</td>\n",
       "      <td>Office Depot Binder</td>\n",
       "      <td>29567.83</td>\n",
       "      <td>9</td>\n",
       "      <td>0.05</td>\n",
       "      <td>2069.75</td>\n",
       "      <td>South</td>\n",
       "      <td>2069.75</td>\n",
       "      <td>0.00</td>\n",
       "    </tr>\n",
       "    <tr>\n",
       "      <th>3</th>\n",
       "      <td>2004</td>\n",
       "      <td>C203</td>\n",
       "      <td>2024-08-06</td>\n",
       "      <td>2024-08-07</td>\n",
       "      <td>P1133</td>\n",
       "      <td>Furniture</td>\n",
       "      <td>Tables</td>\n",
       "      <td>Conference Table</td>\n",
       "      <td>126757.66</td>\n",
       "      <td>8</td>\n",
       "      <td>0.05</td>\n",
       "      <td>8873.04</td>\n",
       "      <td>North</td>\n",
       "      <td>8873.04</td>\n",
       "      <td>0.00</td>\n",
       "    </tr>\n",
       "    <tr>\n",
       "      <th>4</th>\n",
       "      <td>2005</td>\n",
       "      <td>C016</td>\n",
       "      <td>2024-06-18</td>\n",
       "      <td>2024-06-25</td>\n",
       "      <td>P1019</td>\n",
       "      <td>Office Supplies</td>\n",
       "      <td>Binders</td>\n",
       "      <td>Staples Binder</td>\n",
       "      <td>71284.84</td>\n",
       "      <td>9</td>\n",
       "      <td>0.15</td>\n",
       "      <td>-2138.55</td>\n",
       "      <td>East</td>\n",
       "      <td>0.00</td>\n",
       "      <td>2138.55</td>\n",
       "    </tr>\n",
       "  </tbody>\n",
       "</table>\n",
       "</div>"
      ],
      "text/plain": [
       "   Order_ID Customer_ID Order_Date  Ship_Date Product_ID         Category  \\\n",
       "0      2001        C205 2025-01-17 2025-01-22      P1149  Office Supplies   \n",
       "1      2002        C147 2024-10-04 2024-10-11      P1111  Office Supplies   \n",
       "2      2003        C151 2024-11-01 2024-11-04      P1120  Office Supplies   \n",
       "3      2004        C203 2024-08-06 2024-08-07      P1133        Furniture   \n",
       "4      2005        C016 2024-06-18 2024-06-25      P1019  Office Supplies   \n",
       "\n",
       "  Sub_Category         Product_Name      Sales  Quantity  Discount   Profit  \\\n",
       "0         Pens            Pilot Pen  137337.72         5      0.10  2746.75   \n",
       "1      Binders       Staples Binder   60488.39        10      0.15 -1814.65   \n",
       "2      Binders  Office Depot Binder   29567.83         9      0.05  2069.75   \n",
       "3       Tables     Conference Table  126757.66         8      0.05  8873.04   \n",
       "4      Binders       Staples Binder   71284.84         9      0.15 -2138.55   \n",
       "\n",
       "  Region  Clean_Profit  clean_Loss  \n",
       "0  North       2746.75        0.00  \n",
       "1  South          0.00     1814.65  \n",
       "2  South       2069.75        0.00  \n",
       "3  North       8873.04        0.00  \n",
       "4   East          0.00     2138.55  "
      ]
     },
     "execution_count": 13,
     "metadata": {},
     "output_type": "execute_result"
    }
   ],
   "source": [
    "df.head()"
   ]
  },
  {
   "cell_type": "code",
   "execution_count": 16,
   "id": "e4312a22",
   "metadata": {},
   "outputs": [
    {
     "data": {
      "image/png": "[encoded data removed]",
      "text/plain": [
       "<Figure size 1000x500 with 1 Axes>"
      ]
     },
     "metadata": {},
     "output_type": "display_data"
    }
   ],
   "source": [
    "monthly_sales = df.groupby(df['Order_Date'].dt.to_period('M'))['Sales'].sum()\n",
    "monthly_sales.index = monthly_sales.index.to_timestamp()\n",
    "\n",
    "plt.figure(figsize=(10,5))\n",
    "sns.lineplot(x=monthly_sales.index, y=monthly_sales.values, marker='o')\n",
    "plt.title(\"Monthly Sales Trend\")\n",
    "plt.xlabel(\"Month\")\n",
    "plt.ylabel(\"Total Sales\")\n",
    "plt.grid(True)\n",
    "plt.tight_layout()\n",
    "plt.show()\n"
   ]
  },
  {
   "cell_type": "code",
   "execution_count": 21,
   "id": "89e56bc2",
   "metadata": {},
   "outputs": [
    {
     "name": "stdout",
     "output_type": "stream",
     "text": [
      "Region\n",
      "West     17295599.50\n",
      "East     17888644.34\n",
      "South    18265202.89\n",
      "North    20230743.12\n",
      "Name: Sales, dtype: float64\n"
     ]
    }
   ],
   "source": [
    "resion_Sale =df.groupby('Region')['Sales'].sum().sort_values()\n",
    "print(resion_Sale)"
   ]
  },
  {
   "cell_type": "code",
   "execution_count": 29,
   "id": "9b618b98",
   "metadata": {},
   "outputs": [
    {
     "data": {
      "text/plain": [
       "<function matplotlib.pyplot.show(close=None, block=None)>"
      ]
     },
     "execution_count": 29,
     "metadata": {},
     "output_type": "execute_result"
    },
    {
     "data": {
      "image/png": "[encoded data removed]",
      "text/plain": [
       "<Figure size 500x500 with 1 Axes>"
      ]
     },
     "metadata": {},
     "output_type": "display_data"
    }
   ],
   "source": [
    "plt.figure(figsize=(5,5))\n",
    "sns.barplot(x=resion_Sale.values,y=resion_Sale.index,)\n",
    "plt.title(\"Resion by Sales\")\n",
    "plt.show"
   ]
  },
  {
   "cell_type": "code",
   "execution_count": 47,
   "id": "61bbada4",
   "metadata": {},
   "outputs": [
    {
     "name": "stdout",
     "output_type": "stream",
     "text": [
      "Region\n",
      "East     639787.48\n",
      "North    768758.05\n",
      "South    795929.91\n",
      "West     726188.26\n",
      "Name: Clean_Profit, dtype: float64\n",
      "Region\n",
      "East     425966.38\n",
      "North    496358.30\n",
      "South    394952.62\n",
      "West     390140.38\n",
      "Name: clean_Loss, dtype: float64\n"
     ]
    }
   ],
   "source": [
    "resion_profit = df.groupby('Region')['Clean_Profit'].sum()\n",
    "resion_Loss = df.groupby('Region')['clean_Loss'].sum()\n",
    "print(resion_profit)\n",
    "print(resion_Loss)"
   ]
  },
  {
   "cell_type": "code",
   "execution_count": 43,
   "id": "36ae20a7",
   "metadata": {},
   "outputs": [
    {
     "data": {
      "image/png": "[encoded data removed]",
      "text/plain": [
       "<Figure size 500x500 with 1 Axes>"
      ]
     },
     "metadata": {},
     "output_type": "display_data"
    }
   ],
   "source": [
    "plt.figure(figsize=(5,5))\n",
    "plt.pie(resion_profit,labels=resion_profit.index,autopct= '%1.2f%%')\n",
    "plt.title('Region Wise  Profit ')\n",
    "plt.show()"
   ]
  },
  {
   "cell_type": "code",
   "execution_count": 52,
   "id": "abc8d112",
   "metadata": {},
   "outputs": [
    {
     "data": {
      "image/png": "[encoded data removed]",
      "text/plain": [
       "<Figure size 500x500 with 1 Axes>"
      ]
     },
     "metadata": {},
     "output_type": "display_data"
    }
   ],
   "source": [
    "plt.figure(figsize=(5,5))\n",
    "plt.pie(resion_Loss,labels=resion_Loss.index,autopct= '%1.2f%%')\n",
    "plt.title(\"Region wise loss\")\n",
    "plt.show()"
   ]
  },
  {
   "cell_type": "code",
   "execution_count": 64,
   "id": "dc358ef2",
   "metadata": {},
   "outputs": [
    {
     "name": "stdout",
     "output_type": "stream",
     "text": [
      "           Type      Amount\n",
      "0  Clean_Profit  2930663.70\n",
      "1    clean_Loss  1707417.68\n"
     ]
    }
   ],
   "source": [
    "summary = df[['Clean_Profit','clean_Loss']].sum()\n",
    "summary_df = summary.reset_index()\n",
    "summary_df.columns =['Type','Amount']\n",
    "print(summary_df)"
   ]
  },
  {
   "cell_type": "code",
   "execution_count": 69,
   "id": "078d6b11",
   "metadata": {},
   "outputs": [
    {
     "data": {
      "image/png": "[encoded data removed]",
      "text/plain": [
       "<Figure size 600x400 with 1 Axes>"
      ]
     },
     "metadata": {},
     "output_type": "display_data"
    }
   ],
   "source": [
    "plt.figure(figsize=(6,4))\n",
    "ax=sns.barplot(data=summary_df,\n",
    "            x='Type', y='Amount',hue='Type',palette={'Clean_Profit':'Blue',\n",
    "                                                     'clean_Loss':'red'})\n",
    "\n",
    "plt.title( \"Total Profit Vs Total Loss\")\n",
    "plt.show()"
   ]
  },
  {
   "cell_type": "code",
   "execution_count": 71,
   "id": "0f4768ff",
   "metadata": {},
   "outputs": [
    {
     "data": {
      "image/png": "[encoded data removed]",
      "text/plain": [
       "<Figure size 600x600 with 1 Axes>"
      ]
     },
     "metadata": {},
     "output_type": "display_data"
    }
   ],
   "source": [
    "category_profit = df.groupby('Category')['Clean_Profit'].sum()\n",
    "\n",
    "plt.figure(figsize=(6,6))\n",
    "plt.pie(category_profit, labels=category_profit.index, autopct='%1.1f%%', startangle=140, wedgeprops=dict(width=0.6))\n",
    "plt.title(\"Profit Share by Category\")\n",
    "plt.show()\n"
   ]
  }
 ],
 "metadata": {
  "kernelspec": {
   "display_name": "venv",
   "language": "python",
   "name": "python3"
  },
  "language_info": {
   "codemirror_mode": {
    "name": "ipython",
    "version": 3
   },
   "file_extension": ".py",
   "mimetype": "text/x-python",
   "name": "python",
   "nbconvert_exporter": "python",
   "pygments_lexer": "ipython3",
   "version": "3.9.7"
  }
 },
 "nbformat": 4,
 "nbformat_minor": 5
}
